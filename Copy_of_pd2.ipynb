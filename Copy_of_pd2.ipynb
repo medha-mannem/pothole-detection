{
  "nbformat": 4,
  "nbformat_minor": 0,
  "metadata": {
    "colab": {
      "provenance": [],
      "gpuType": "T4",
      "authorship_tag": "ABX9TyO4SBkfld+AdyPxOwAovHwR",
      "include_colab_link": true
    },
    "kernelspec": {
      "name": "python3",
      "display_name": "Python 3"
    },
    "language_info": {
      "name": "python"
    },
    "accelerator": "GPU"
  },
  "cells": [
    {
      "cell_type": "markdown",
      "metadata": {
        "id": "view-in-github",
        "colab_type": "text"
      },
      "source": [
        "<a href=\"https://colab.research.google.com/github/medha-mannem/pothole-detection/blob/main/Copy_of_pd2.ipynb\" target=\"_parent\"><img src=\"https://colab.research.google.com/assets/colab-badge.svg\" alt=\"Open In Colab\"/></a>"
      ]
    },
    {
      "cell_type": "code",
      "execution_count": 1,
      "metadata": {
        "id": "9fqpZc4_BHKv"
      },
      "outputs": [],
      "source": [
        "import numpy as np\n",
        "import matplotlib.pyplot as plt\n",
        "from sklearn.metrics import classification_report, confusion_matrix\n",
        "from keras.models import Sequential, load_model\n",
        "from keras.layers import Dense, Flatten, Dropout\n",
        "from keras.preprocessing.image import ImageDataGenerator, load_img, img_to_array\n",
        "from keras.applications import MobileNet\n",
        "from google.colab import drive\n",
        "import seaborn as sns\n",
        "import tensorflow as tf"
      ]
    },
    {
      "cell_type": "code",
      "source": [
        "# Mount Google Drive\n",
        "drive.mount('/content/drive')"
      ],
      "metadata": {
        "colab": {
          "base_uri": "https://localhost:8080/"
        },
        "id": "WyZJmCwAIrwQ",
        "outputId": "44e5a81c-6a1b-43f7-e9be-4f886382162f"
      },
      "execution_count": 2,
      "outputs": [
        {
          "output_type": "stream",
          "name": "stdout",
          "text": [
            "Mounted at /content/drive\n"
          ]
        }
      ]
    },
    {
      "cell_type": "code",
      "source": [
        "# Define the ImageDataGenerator for training and testing\n",
        "train_datagen = ImageDataGenerator(\n",
        "    rescale=1./255,\n",
        "    shear_range=0.2,\n",
        "    zoom_range=0.2,\n",
        "    horizontal_flip=True\n",
        ")\n",
        "\n",
        "test_datagen = ImageDataGenerator(rescale=1./255)"
      ],
      "metadata": {
        "id": "XGeFEFi4I_8p"
      },
      "execution_count": 3,
      "outputs": []
    },
    {
      "cell_type": "code",
      "source": [
        "# Path to your training and testing directories\n",
        "train_dir = '/content/drive/MyDrive/pimgs/pimages/train'\n",
        "test_dir = '/content/drive/MyDrive/pimgs/pimages/test'\n"
      ],
      "metadata": {
        "id": "mVwAX5fxJDpC"
      },
      "execution_count": 6,
      "outputs": []
    },
    {
      "cell_type": "code",
      "source": [
        "# Create training and testing sets\n",
        "training_set = train_datagen.flow_from_directory(\n",
        "    train_dir,\n",
        "    target_size=(64, 64),\n",
        "    batch_size=32,\n",
        "    class_mode='binary'\n",
        ")\n",
        "\n",
        "test_set = test_datagen.flow_from_directory(\n",
        "    test_dir,\n",
        "    target_size=(64, 64),\n",
        "    batch_size=32,\n",
        "    class_mode='binary'\n",
        ")"
      ],
      "metadata": {
        "colab": {
          "base_uri": "https://localhost:8080/"
        },
        "id": "3qddbQuLJEVT",
        "outputId": "017109ba-f259-486a-9b7c-e0e25a5dc528"
      },
      "execution_count": 22,
      "outputs": [
        {
          "output_type": "stream",
          "name": "stdout",
          "text": [
            "Found 2370 images belonging to 2 classes.\n",
            "Found 294 images belonging to 2 classes.\n"
          ]
        }
      ]
    },
    {
      "cell_type": "code",
      "source": [
        "# Calculate steps_per_epoch and validation_steps\n",
        "train_steps_per_epoch = training_set.samples // training_set.batch_size\n",
        "val_steps = test_set.samples // test_set.batch_size\n",
        "\n",
        "# Calculate steps_per_epoch and validation_steps, handling potential zero division\n",
        "train_steps_per_epoch = training_set.samples // training_set.batch_size if training_set.samples > 0 else 1\n",
        "val_steps = test_set.samples // test_set.batch_size if test_set.samples > 0 else 1"
      ],
      "metadata": {
        "id": "XHi677RqJGT8"
      },
      "execution_count": 23,
      "outputs": []
    },
    {
      "cell_type": "code",
      "source": [
        "# Define the distribution strategy\n",
        "strategy = tf.distribute.MirroredStrategy()\n",
        "\n",
        "with strategy.scope():\n",
        "    # Define the model using MobileNet\n",
        "    base_model = MobileNet(input_shape=(64, 64, 3), include_top=False, weights='imagenet')\n",
        "    classifier = Sequential([\n",
        "        base_model,\n",
        "        Flatten(),\n",
        "        Dense(units=128, activation='relu'),\n",
        "        Dropout(0.5),\n",
        "        Dense(units=1, activation='sigmoid')\n",
        "    ])\n",
        "\n",
        "    # Compile the model with additional metrics\n",
        "    classifier.compile(optimizer='adam', loss='binary_crossentropy',\n",
        "                       metrics=['accuracy',\n",
        "                                tf.keras.metrics.Precision(name='precision'),\n",
        "                                tf.keras.metrics.Recall(name='recall'),\n",
        "                                tf.keras.metrics.AUC(name='auc')])"
      ],
      "metadata": {
        "colab": {
          "base_uri": "https://localhost:8080/"
        },
        "id": "pA9TQUZGJIgl",
        "outputId": "961be6c7-00b7-4b94-c538-6ccb841094ac"
      },
      "execution_count": 24,
      "outputs": [
        {
          "output_type": "stream",
          "name": "stderr",
          "text": [
            "WARNING:tensorflow:`input_shape` is undefined or non-square, or `rows` is not in [128, 160, 192, 224]. Weights for input shape (224, 224) will be loaded as the default.\n"
          ]
        }
      ]
    },
    {
      "cell_type": "code",
      "source": [
        "# Check number of samples\n",
        "print(f\"Number of training samples: {training_set.samples}\")\n",
        "print(f\"Number of testing samples: {test_set.samples}\")"
      ],
      "metadata": {
        "colab": {
          "base_uri": "https://localhost:8080/"
        },
        "id": "NkcZSo-5RM9I",
        "outputId": "0b640581-8269-4c01-c241-bc827f9af754"
      },
      "execution_count": 26,
      "outputs": [
        {
          "output_type": "stream",
          "name": "stdout",
          "text": [
            "Number of training samples: 2370\n",
            "Number of testing samples: 294\n"
          ]
        }
      ]
    },
    {
      "cell_type": "code",
      "source": [
        "# Train the model\n",
        "history = classifier.fit(\n",
        "    training_set,\n",
        "    steps_per_epoch=train_steps_per_epoch,\n",
        "    epochs=25,\n",
        "    validation_data=test_set,\n",
        "    validation_steps=val_steps\n",
        ")"
      ],
      "metadata": {
        "colab": {
          "base_uri": "https://localhost:8080/"
        },
        "id": "R1Mv2-I6JO9K",
        "outputId": "2750d69b-246c-4f51-e24d-1234e190f3e9"
      },
      "execution_count": 27,
      "outputs": [
        {
          "output_type": "stream",
          "name": "stdout",
          "text": [
            "Epoch 1/25\n",
            "74/74 [==============================] - 588s 8s/step - loss: 0.1775 - accuracy: 0.9572 - precision: 0.9741 - recall: 0.9796 - auc: 0.9403 - val_loss: 3.0361 - val_accuracy: 0.4479 - val_precision: 0.4479 - val_recall: 1.0000 - val_auc: 0.7902\n",
            "Epoch 2/25\n",
            "74/74 [==============================] - 83s 1s/step - loss: 0.0818 - accuracy: 0.9739 - precision: 0.9852 - recall: 0.9865 - auc: 0.9830 - val_loss: 0.1865 - val_accuracy: 0.9340 - val_precision: 0.9147 - val_recall: 0.9365 - val_auc: 0.9846\n",
            "Epoch 3/25\n",
            "74/74 [==============================] - 84s 1s/step - loss: 0.0760 - accuracy: 0.9735 - precision: 0.9847 - recall: 0.9865 - auc: 0.9840 - val_loss: 0.3531 - val_accuracy: 0.8819 - val_precision: 0.7975 - val_recall: 0.9844 - val_auc: 0.9856\n",
            "Epoch 4/25\n",
            "74/74 [==============================] - 86s 1s/step - loss: 0.0482 - accuracy: 0.9825 - precision: 0.9907 - recall: 0.9902 - auc: 0.9906 - val_loss: 0.1961 - val_accuracy: 0.9583 - val_precision: 0.9209 - val_recall: 0.9922 - val_auc: 0.9853\n",
            "Epoch 5/25\n",
            "74/74 [==============================] - 88s 1s/step - loss: 0.0522 - accuracy: 0.9820 - precision: 0.9902 - recall: 0.9902 - auc: 0.9902 - val_loss: 0.2944 - val_accuracy: 0.9028 - val_precision: 1.0000 - val_recall: 0.7812 - val_auc: 0.9839\n",
            "Epoch 6/25\n",
            "74/74 [==============================] - 90s 1s/step - loss: 0.0542 - accuracy: 0.9799 - precision: 0.9898 - recall: 0.9884 - auc: 0.9904 - val_loss: 0.3137 - val_accuracy: 0.9167 - val_precision: 0.8947 - val_recall: 0.9225 - val_auc: 0.9665\n",
            "Epoch 7/25\n",
            "74/74 [==============================] - 87s 1s/step - loss: 0.0485 - accuracy: 0.9825 - precision: 0.9893 - recall: 0.9916 - auc: 0.9886 - val_loss: 0.2762 - val_accuracy: 0.9514 - val_precision: 0.9444 - val_recall: 0.9444 - val_auc: 0.9787\n",
            "Epoch 8/25\n",
            "74/74 [==============================] - 92s 1s/step - loss: 0.0563 - accuracy: 0.9825 - precision: 0.9916 - recall: 0.9893 - auc: 0.9872 - val_loss: 0.6069 - val_accuracy: 0.9097 - val_precision: 0.8366 - val_recall: 0.9922 - val_auc: 0.9659\n",
            "Epoch 9/25\n",
            "74/74 [==============================] - 84s 1s/step - loss: 0.0414 - accuracy: 0.9889 - precision: 0.9930 - recall: 0.9949 - auc: 0.9921 - val_loss: 0.1720 - val_accuracy: 0.9479 - val_precision: 0.9318 - val_recall: 0.9535 - val_auc: 0.9875\n",
            "Epoch 10/25\n",
            "74/74 [==============================] - 87s 1s/step - loss: 0.0431 - accuracy: 0.9876 - precision: 0.9935 - recall: 0.9930 - auc: 0.9918 - val_loss: 0.3639 - val_accuracy: 0.9444 - val_precision: 0.9000 - val_recall: 0.9844 - val_auc: 0.9708\n",
            "Epoch 11/25\n",
            "74/74 [==============================] - 81s 1s/step - loss: 0.0757 - accuracy: 0.9829 - precision: 0.9898 - recall: 0.9916 - auc: 0.9895 - val_loss: 1.6113 - val_accuracy: 0.6493 - val_precision: 0.5609 - val_recall: 1.0000 - val_auc: 0.9022\n",
            "Epoch 12/25\n",
            "74/74 [==============================] - 88s 1s/step - loss: 0.0666 - accuracy: 0.9825 - precision: 0.9930 - recall: 0.9879 - auc: 0.9833 - val_loss: 0.8419 - val_accuracy: 0.8924 - val_precision: 0.8141 - val_recall: 0.9845 - val_auc: 0.9550\n",
            "Epoch 13/25\n",
            "74/74 [==============================] - 90s 1s/step - loss: 0.0370 - accuracy: 0.9876 - precision: 0.9930 - recall: 0.9935 - auc: 0.9921 - val_loss: 0.4169 - val_accuracy: 0.9340 - val_precision: 0.8873 - val_recall: 0.9767 - val_auc: 0.9740\n",
            "Epoch 14/25\n",
            "74/74 [==============================] - 88s 1s/step - loss: 0.0446 - accuracy: 0.9872 - precision: 0.9953 - recall: 0.9907 - auc: 0.9922 - val_loss: 0.2779 - val_accuracy: 0.9340 - val_precision: 0.8819 - val_recall: 0.9845 - val_auc: 0.9876\n",
            "Epoch 15/25\n",
            "74/74 [==============================] - 90s 1s/step - loss: 0.0410 - accuracy: 0.9859 - precision: 0.9903 - recall: 0.9944 - auc: 0.9943 - val_loss: 0.2513 - val_accuracy: 0.9479 - val_precision: 0.9111 - val_recall: 0.9762 - val_auc: 0.9900\n",
            "Epoch 16/25\n",
            "74/74 [==============================] - 86s 1s/step - loss: 0.0489 - accuracy: 0.9812 - precision: 0.9925 - recall: 0.9870 - auc: 0.9929 - val_loss: 0.6004 - val_accuracy: 0.8611 - val_precision: 0.9891 - val_recall: 0.7000 - val_auc: 0.9546\n",
            "Epoch 17/25\n",
            "74/74 [==============================] - 86s 1s/step - loss: 0.0270 - accuracy: 0.9906 - precision: 0.9953 - recall: 0.9944 - auc: 0.9960 - val_loss: 0.3868 - val_accuracy: 0.9340 - val_precision: 0.8929 - val_recall: 0.9690 - val_auc: 0.9734\n",
            "Epoch 18/25\n",
            "74/74 [==============================] - 89s 1s/step - loss: 0.0270 - accuracy: 0.9906 - precision: 0.9958 - recall: 0.9940 - auc: 0.9960 - val_loss: 0.2984 - val_accuracy: 0.9201 - val_precision: 0.8897 - val_recall: 0.9380 - val_auc: 0.9785\n",
            "Epoch 19/25\n",
            "74/74 [==============================] - 85s 1s/step - loss: 0.0195 - accuracy: 0.9949 - precision: 0.9972 - recall: 0.9972 - auc: 0.9966 - val_loss: 0.7130 - val_accuracy: 0.8958 - val_precision: 0.8089 - val_recall: 1.0000 - val_auc: 0.9587\n",
            "Epoch 20/25\n",
            "74/74 [==============================] - 90s 1s/step - loss: 0.0322 - accuracy: 0.9880 - precision: 0.9944 - recall: 0.9926 - auc: 0.9958 - val_loss: 1.4309 - val_accuracy: 0.8819 - val_precision: 0.7888 - val_recall: 1.0000 - val_auc: 0.9379\n",
            "Epoch 21/25\n",
            "74/74 [==============================] - 83s 1s/step - loss: 0.0322 - accuracy: 0.9923 - precision: 0.9958 - recall: 0.9958 - auc: 0.9929 - val_loss: 0.7202 - val_accuracy: 0.9167 - val_precision: 0.8514 - val_recall: 0.9844 - val_auc: 0.9624\n",
            "Epoch 22/25\n",
            "74/74 [==============================] - 80s 1s/step - loss: 0.0386 - accuracy: 0.9872 - precision: 0.9944 - recall: 0.9916 - auc: 0.9928 - val_loss: 0.2955 - val_accuracy: 0.9271 - val_precision: 0.9286 - val_recall: 0.9070 - val_auc: 0.9712\n",
            "Epoch 23/25\n",
            "74/74 [==============================] - 83s 1s/step - loss: 0.0201 - accuracy: 0.9936 - precision: 0.9963 - recall: 0.9967 - auc: 0.9966 - val_loss: 0.2668 - val_accuracy: 0.9479 - val_precision: 0.9828 - val_recall: 0.8976 - val_auc: 0.9732\n",
            "Epoch 24/25\n",
            "74/74 [==============================] - 88s 1s/step - loss: 0.0215 - accuracy: 0.9944 - precision: 0.9972 - recall: 0.9967 - auc: 0.9991 - val_loss: 0.1861 - val_accuracy: 0.9583 - val_precision: 0.9323 - val_recall: 0.9764 - val_auc: 0.9892\n",
            "Epoch 25/25\n",
            "74/74 [==============================] - 92s 1s/step - loss: 0.0103 - accuracy: 0.9957 - precision: 0.9977 - recall: 0.9977 - auc: 0.9998 - val_loss: 0.1227 - val_accuracy: 0.9757 - val_precision: 0.9692 - val_recall: 0.9767 - val_auc: 0.9921\n"
          ]
        }
      ]
    },
    {
      "cell_type": "code",
      "source": [
        "# Plot training & validation accuracy and loss values\n",
        "plt.figure(figsize=(12, 8))"
      ],
      "metadata": {
        "colab": {
          "base_uri": "https://localhost:8080/",
          "height": 52
        },
        "id": "hz4T4h6NLUnQ",
        "outputId": "94ccb228-da13-4821-c9a6-8cf4aaa5f88d"
      },
      "execution_count": 28,
      "outputs": [
        {
          "output_type": "execute_result",
          "data": {
            "text/plain": [
              "<Figure size 1200x800 with 0 Axes>"
            ]
          },
          "metadata": {},
          "execution_count": 28
        },
        {
          "output_type": "display_data",
          "data": {
            "text/plain": [
              "<Figure size 1200x800 with 0 Axes>"
            ]
          },
          "metadata": {}
        }
      ]
    },
    {
      "cell_type": "code",
      "source": [
        "# Accuracy\n",
        "plt.subplot(2, 2, 1)\n",
        "plt.plot(history.history['accuracy'])\n",
        "plt.plot(history.history['val_accuracy'])\n",
        "plt.title('Model accuracy')\n",
        "plt.ylabel('Accuracy')\n",
        "plt.xlabel('Epoch')\n",
        "plt.legend(['Train', 'Test'], loc='upper left')"
      ],
      "metadata": {
        "colab": {
          "base_uri": "https://localhost:8080/",
          "height": 287
        },
        "id": "38bzT0jnLXXU",
        "outputId": "efd6ce7a-7b85-4ae8-8154-c4e7284e461a"
      },
      "execution_count": 29,
      "outputs": [
        {
          "output_type": "execute_result",
          "data": {
            "text/plain": [
              "<matplotlib.legend.Legend at 0x7ab2ca3aaec0>"
            ]
          },
          "metadata": {},
          "execution_count": 29
        },
        {
          "output_type": "display_data",
          "data": {
            "text/plain": [
              "<Figure size 640x480 with 1 Axes>"
            ],
            "image/png": "[encoded data removed]"
          },
          "metadata": {}
        }
      ]
    },
    {
      "cell_type": "code",
      "source": [
        "# Loss\n",
        "plt.subplot(2, 2, 2)\n",
        "plt.plot(history.history['loss'])\n",
        "plt.plot(history.history['val_loss'])\n",
        "plt.title('Model loss')\n",
        "plt.ylabel('Loss')\n",
        "plt.xlabel('Epoch')\n",
        "plt.legend(['Train', 'Test'], loc='upper left')"
      ],
      "metadata": {
        "colab": {
          "base_uri": "https://localhost:8080/",
          "height": 287
        },
        "id": "aQQagqNXLZXW",
        "outputId": "758eaac8-b8d1-44bb-9ed7-af063fb8ae6c"
      },
      "execution_count": 30,
      "outputs": [
        {
          "output_type": "execute_result",
          "data": {
            "text/plain": [
              "<matplotlib.legend.Legend at 0x7ab2ca30fa30>"
            ]
          },
          "metadata": {},
          "execution_count": 30
        },
        {
          "output_type": "display_data",
          "data": {
            "text/plain": [
              "<Figure size 640x480 with 1 Axes>"
            ],
            "image/png": "[encoded data removed]"
          },
          "metadata": {}
        }
      ]
    },
    {
      "cell_type": "code",
      "source": [
        "# Precision\n",
        "plt.subplot(2, 2, 3)\n",
        "plt.plot(history.history['precision'])\n",
        "plt.plot(history.history['val_precision'])\n",
        "plt.title('Model precision')\n",
        "plt.ylabel('Precision')\n",
        "plt.xlabel('Epoch')\n",
        "plt.legend(['Train', 'Test'], loc='upper left')"
      ],
      "metadata": {
        "colab": {
          "base_uri": "https://localhost:8080/",
          "height": 287
        },
        "id": "zrrxprV7Leav",
        "outputId": "e2fe0278-4479-4b5c-d602-6f4a269653c8"
      },
      "execution_count": 31,
      "outputs": [
        {
          "output_type": "execute_result",
          "data": {
            "text/plain": [
              "<matplotlib.legend.Legend at 0x7ab2cff8b040>"
            ]
          },
          "metadata": {},
          "execution_count": 31
        },
        {
          "output_type": "display_data",
          "data": {
            "text/plain": [
              "<Figure size 640x480 with 1 Axes>"
            ],
            "image/png": "[encoded data removed]"
          },
          "metadata": {}
        }
      ]
    },
    {
      "cell_type": "code",
      "source": [
        "# Recall\n",
        "plt.subplot(2, 2, 4)\n",
        "plt.plot(history.history['recall'])\n",
        "plt.plot(history.history['val_recall'])\n",
        "plt.title('Model recall')\n",
        "plt.ylabel('Recall')\n",
        "plt.xlabel('Epoch')\n",
        "plt.legend(['Train', 'Test'], loc='upper left')"
      ],
      "metadata": {
        "colab": {
          "base_uri": "https://localhost:8080/",
          "height": 287
        },
        "id": "RHQTEg3cLioK",
        "outputId": "40131f54-7428-4fa7-9fae-07437263657a"
      },
      "execution_count": 32,
      "outputs": [
        {
          "output_type": "execute_result",
          "data": {
            "text/plain": [
              "<matplotlib.legend.Legend at 0x7ab2cfe0c910>"
            ]
          },
          "metadata": {},
          "execution_count": 32
        },
        {
          "output_type": "display_data",
          "data": {
            "text/plain": [
              "<Figure size 640x480 with 1 Axes>"
            ],
            "image/png": "[encoded data removed]"
          },
          "metadata": {}
        }
      ]
    },
    {
      "cell_type": "code",
      "source": [
        "plt.tight_layout()\n",
        "plt.show()"
      ],
      "metadata": {
        "colab": {
          "base_uri": "https://localhost:8080/",
          "height": 34
        },
        "id": "IwG09-KVLjq3",
        "outputId": "898af346-a891-41c0-ad1e-561745a767eb"
      },
      "execution_count": 33,
      "outputs": [
        {
          "output_type": "display_data",
          "data": {
            "text/plain": [
              "<Figure size 640x480 with 0 Axes>"
            ]
          },
          "metadata": {}
        }
      ]
    },
    {
      "cell_type": "code",
      "source": [
        "# Function to predict image\n",
        "def predictImg(imgpath):\n",
        "    try:\n",
        "        predict_image = load_img(imgpath, target_size=(64, 64))\n",
        "        predict_image = img_to_array(predict_image)\n",
        "        predict_image = np.expand_dims(predict_image, axis=0)\n",
        "        result = classifier.predict(predict_image)\n",
        "        return 'Pothole' if result[0][0] >= 0.5 else 'No Pothole'\n",
        "    except Exception as e:\n",
        "        print(f\"Error occurred: {e}\")\n",
        "        return None\n"
      ],
      "metadata": {
        "id": "XkASbrKKLmom"
      },
      "execution_count": 34,
      "outputs": []
    },
    {
      "cell_type": "code",
      "source": [
        "# Predict example images\n",
        "print(predictImg('/content/drive/MyDrive/testing images/11.jpg'))\n",
        "print(predictImg('/content/drive/MyDrive/testing images/pic-60-_jpg.rf.4e715308cc8dc7455b767414cda028ab.jpg'))\n",
        "print(predictImg('/content/drive/MyDrive/testing images/21.jpg'))\n",
        "print(predictImg('/content/drive/MyDrive/testing images/pic-4-_jpg.rf.f52085b2d1744eeb56ed5a4b8ba0fb0f.jpg'))\n",
        "\n"
      ],
      "metadata": {
        "colab": {
          "base_uri": "https://localhost:8080/"
        },
        "id": "HzxsIzEfLo3V",
        "outputId": "f1a76220-5253-4759-a4d4-4708c8eec3fe"
      },
      "execution_count": null,
      "outputs": [
        {
          "output_type": "stream",
          "name": "stdout",
          "text": [
            "Error occurred: [Errno 2] No such file or directory: '/content/drive/MyDrive/testing images/11.jpg'\n",
            "None\n",
            "Error occurred: [Errno 2] No such file or directory: '/content/drive/MyDrive/testing images/pic-60-_jpg.rf.4e715308cc8dc7455b767414cda028ab.jpg'\n",
            "None\n",
            "Error occurred: [Errno 2] No such file or directory: '/content/drive/MyDrive/testing images/21.jpg'\n",
            "None\n",
            "Error occurred: [Errno 2] No such file or directory: '/content/drive/MyDrive/testing images/pic-4-_jpg.rf.f52085b2d1744eeb56ed5a4b8ba0fb0f.jpg'\n",
            "None\n"
          ]
        }
      ]
    },
    {
      "cell_type": "code",
      "source": [
        "# Generate confusion matrix\n",
        "def plot_confusion_matrix():\n",
        "    Y_pred = classifier.predict(test_set)\n",
        "    y_pred = np.round(Y_pred).astype(int)\n",
        "    y_true = test_set.classes\n",
        "\n",
        "    cm = confusion_matrix(y_true, y_pred)\n",
        "    cm_plot_labels = ['No Pothole', 'Pothole']\n",
        "    plt.figure(figsize=(8, 6))\n",
        "    sns.heatmap(cm, annot=True, fmt='d', cmap='Blues', xticklabels=cm_plot_labels, yticklabels=cm_plot_labels)\n",
        "    plt.title('Confusion Matrix')\n",
        "    plt.xlabel('Predicted')\n",
        "    plt.ylabel('True')\n",
        "    plt.show()\n",
        "\n",
        "    # Print classification report\n",
        "    print('Classification Report')\n",
        "    target_names = ['No Pothole', 'Pothole']\n",
        "    print(classification_report(y_true, y_pred, target_names=target_names))\n",
        "\n",
        "plot_confusion_matrix()"
      ],
      "metadata": {
        "colab": {
          "base_uri": "https://localhost:8080/",
          "height": 755
        },
        "id": "YgORZHBmLtlM",
        "outputId": "30018a12-43d6-4327-a169-37a15b54fcff"
      },
      "execution_count": 35,
      "outputs": [
        {
          "output_type": "stream",
          "name": "stdout",
          "text": [
            "10/10 [==============================] - 9s 736ms/step\n"
          ]
        },
        {
          "output_type": "display_data",
          "data": {
            "text/plain": [
              "<Figure size 800x600 with 2 Axes>"
            ],
            "image/png": "[encoded data removed]"
          },
          "metadata": {}
        },
        {
          "output_type": "stream",
          "name": "stdout",
          "text": [
            "Classification Report\n",
            "              precision    recall  f1-score   support\n",
            "\n",
            "  No Pothole       0.58      0.57      0.57       163\n",
            "     Pothole       0.47      0.48      0.48       131\n",
            "\n",
            "    accuracy                           0.53       294\n",
            "   macro avg       0.53      0.53      0.53       294\n",
            "weighted avg       0.53      0.53      0.53       294\n",
            "\n"
          ]
        }
      ]
    },
    {
      "cell_type": "code",
      "source": [
        "print(f\"Final Training Accuracy: {history.history['accuracy'][-1]}\")\n",
        "print(f\"Final Validation Accuracy: {history.history['val_accuracy'][-1]}\")\n",
        "print(f\"Final Training Loss: {history.history['loss'][-1]}\")\n",
        "print(f\"Final Validation Loss: {history.history['val_loss'][-1]}\")"
      ],
      "metadata": {
        "id": "0HMzyTvyMC3O",
        "outputId": "d4f7c8e4-49dd-445f-82fa-56ffe548b3e3",
        "colab": {
          "base_uri": "https://localhost:8080/"
        }
      },
      "execution_count": 36,
      "outputs": [
        {
          "output_type": "stream",
          "name": "stdout",
          "text": [
            "Final Training Accuracy: 0.9957228302955627\n",
            "Final Validation Accuracy: 0.9756944179534912\n",
            "Final Training Loss: 0.010327127762138844\n",
            "Final Validation Loss: 0.12271148711442947\n"
          ]
        }
      ]
    }
  ]
}